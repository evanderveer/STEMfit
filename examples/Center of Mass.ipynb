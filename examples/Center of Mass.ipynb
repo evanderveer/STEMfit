{
 "cells": [
  {
   "attachments": {},
   "cell_type": "markdown",
   "metadata": {},
   "source": [
    "# **STEMfit example**\n",
    "## *Center of mass mode*"
   ]
  },
  {
   "attachments": {},
   "cell_type": "markdown",
   "metadata": {},
   "source": [
    "This notebook gives a short demonstration of how to detect atoms in a STEM image and determine their positions using center of mass mode. First, we start by importing `STEMfit`:"
   ]
  },
  {
   "cell_type": "code",
   "execution_count": null,
   "metadata": {},
   "outputs": [],
   "source": [
    "import STEMfit"
   ]
  },
  {
   "attachments": {},
   "cell_type": "markdown",
   "metadata": {},
   "source": [
    "Now, we load our example image. The image we use here is of three oxide perovskite layers grown epitaxially on each other. By setting `convert=true`, we let `STEMfit` convert our 16 bit TIFF image into the required format."
   ]
  },
  {
   "cell_type": "code",
   "execution_count": null,
   "metadata": {},
   "outputs": [],
   "source": [
    "image = STEMfit.load_image(\"image.tif\", convert=true);"
   ]
  },
  {
   "attachments": {},
   "cell_type": "markdown",
   "metadata": {},
   "source": [
    "We filter the raw image using a combination of singular value decomposition and Gaussian convolution. `STEMfit` will automatically determine the number of singular vectors to use. For diagnostic purposes, we can set the keyword argument `plot=true`:"
   ]
  },
  {
   "cell_type": "code",
   "execution_count": null,
   "metadata": {},
   "outputs": [],
   "source": [
    "filtered_image = STEMfit.filter_image(image, plot=false);"
   ]
  },
  {
   "attachments": {},
   "cell_type": "markdown",
   "metadata": {},
   "source": [
    "Then, we use the `find_atoms` function to find atoms in the image using an adaptive thresholding procedure. The function takes the image as an argument as well as `bias` and `window_size` parameters which control the thresholding. Increasing `bias` tends to make the threshold higher (i.e. more separation of atoms), `window_size` determines how big of an area is considered at each point in the image. The function returns a matrix of atom positions, a vector of atom widths, a vector of atom intensities and the thresholded image. The latter can be used to assess the quality of the thresholding and asjust the `bias` and `window_size` parameters. "
   ]
  },
  {
   "cell_type": "code",
   "execution_count": null,
   "metadata": {},
   "outputs": [],
   "source": [
    "(atom_parameters, thresholded_image) = STEMfit.find_atoms(filtered_image, bias=0.5, window_size=3, min_atom_size=10);"
   ]
  },
  {
   "attachments": {},
   "cell_type": "markdown",
   "metadata": {},
   "source": [
    "All atoms are correctly detected. We save the atomic positions to a file so we can use them later on for Gaussian fitting or plotting:"
   ]
  },
  {
   "cell_type": "code",
   "execution_count": null,
   "metadata": {},
   "outputs": [],
   "source": [
    "STEMfit.save_atomic_parameters(\"Center of Mass results\\\\atomic parameters.csv\", \n",
    "                                atom_parameters=atom_parameters)\n",
    "STEMfit.save(\"Center of Mass results\\\\binarized image.png\", thresholded_image)\n",
    "STEMfit.save(\"Center of Mass results\\\\filtered image.png\", filtered_image)"
   ]
  }
 ],
 "metadata": {
  "kernelspec": {
   "display_name": "Julia 1.7.2",
   "language": "julia",
   "name": "julia-1.7"
  },
  "language_info": {
   "file_extension": ".jl",
   "mimetype": "application/julia",
   "name": "julia",
   "version": "1.7.2"
  },
  "orig_nbformat": 4,
  "vscode": {
   "interpreter": {
    "hash": "f498d1ef7fbdedf5dad90d62469750c6f46cbfe0563bec8f8c88bc986a7b1b4a"
   }
  }
 },
 "nbformat": 4,
 "nbformat_minor": 2
}
