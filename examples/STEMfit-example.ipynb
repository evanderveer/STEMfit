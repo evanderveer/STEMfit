{
 "cells": [
  {
   "attachments": {},
   "cell_type": "markdown",
   "metadata": {},
   "source": [
    "# **STEMfit example**"
   ]
  },
  {
   "attachments": {},
   "cell_type": "markdown",
   "metadata": {},
   "source": [
    "This notebook gives a short demonstration of how to detect atoms in a STEM image and determine the unit cell. First, we start by importing `STEMfit` and `Plots`:"
   ]
  },
  {
   "cell_type": "code",
   "execution_count": null,
   "metadata": {},
   "outputs": [],
   "source": [
    "using Pkg; Pkg.activate(\"X:\\\\Documents\\\\virtualenvs\\\\Julia_STEMfit\");\n",
    "#sing Pkg; Pkg.activate(\"C:\\\\Users\\\\ewout\\\\Documents\\\\venv\\\\Julia-STEMfit\");\n",
    "\n",
    "#using Pkg; Pkg.activate(\"C:\\\\Users\\\\Ewout\\\\Documents\\\\venv\\\\Julia\\\\STEMfit\");\n",
    "using Revise\n",
    "import STEMfit\n",
    "#using Plots"
   ]
  },
  {
   "attachments": {},
   "cell_type": "markdown",
   "metadata": {},
   "source": [
    "Now, we load our example image. The image we use here is of three oxide perovskite layers grown epitaxially on each other. By setting `convert=true`, we let `STEMfit` convert our 16 bit TIFF image into the required format."
   ]
  },
  {
   "cell_type": "code",
   "execution_count": null,
   "metadata": {},
   "outputs": [],
   "source": [
    "image = STEMfit.load_image(\"image.tif\", convert=true);"
   ]
  },
  {
   "attachments": {},
   "cell_type": "markdown",
   "metadata": {},
   "source": [
    "We filter the raw image using a combination of singular value decomposition and Gaussian convolution. `STEMfit` will automatically determine the number of singular vectors to use. For diagnostic purposes, we can set the keyword argument `plot=true`:"
   ]
  },
  {
   "cell_type": "code",
   "execution_count": null,
   "metadata": {},
   "outputs": [],
   "source": [
    "filtered_image = STEMfit.filter_image(image, plot=false);"
   ]
  },
  {
   "attachments": {},
   "cell_type": "markdown",
   "metadata": {},
   "source": [
    "Then, we use the `find_atoms` function to find atoms in the image using an adaptive thresholding procedure. The function takes the image as an argument as well as `bias` and `window_size` parameters which control the thresholding. Increasing `bias` tends to make the threshold higher (i.e. more separation of atoms), `window_size` determines how big of an area is considered at each point in the image. The function returns a matrix of atom positions, a vector of atom widths, a vector of atom intensities and the thresholded image. The latter can be used to assess the quality of the thresholding and asjust the `bias` and `window_size` parameters. "
   ]
  },
  {
   "cell_type": "code",
   "execution_count": null,
   "metadata": {},
   "outputs": [],
   "source": [
    "(atom_parameters, thresholded_image) = STEMfit.find_atoms(filtered_image, bias=0.5, window_size=3, min_atom_size=10);"
   ]
  },
  {
   "attachments": {},
   "cell_type": "markdown",
   "metadata": {},
   "source": [
    "All atoms are correctly detected. `STEMfit` will now try to find potential unit cells in the atomic positions. To do this, it finds clusters in the vectors between each pair of atoms using the [DBSCAN](https://www.wikiwand.com/en/DBSCAN) algorithm. Any two of such vectors may form the side of a possible unit cell. We restrict the angle of the unit cell to 85-95 degrees (i.e. a rectangular unit cell) using the `uc_allowed_angles` parameter and use the default settings for all other parameters. The possible choices for unit cells are automatically plotted together with the average *local* atomic environment."
   ]
  },
  {
   "cell_type": "code",
   "execution_count": null,
   "metadata": {},
   "outputs": [],
   "source": [
    "(unit_cells, neighbors, atom_tree) = STEMfit.find_unit_cells(atom_parameters, uc_allowed_angles=85:95);"
   ]
  },
  {
   "attachments": {},
   "cell_type": "markdown",
   "metadata": {},
   "source": [
    "It seems like `STEMfit` found a correct unit cell (Unit cell 3). Bear in mind that this unit cell represents the *average* translational symmetry in the whole image. To transform our atomic positions (in pixel units) to positions in length units (e.g. nm), we can use part of the image as a reference. In this case, the bottom ~1/5 of the image is a substrate with known lattice parameters. First, we calculate the local lattice parameter for each atom. We use the `calculate_lattice_parameters` function using the average unit cell we found and otherwise standard settings. "
   ]
  },
  {
   "cell_type": "code",
   "execution_count": null,
   "metadata": {},
   "outputs": [],
   "source": [
    "lattice_parameters = STEMfit.calculate_lattice_parameters(atom_parameters, unit_cells[3])"
   ]
  },
  {
   "attachments": {},
   "cell_type": "markdown",
   "metadata": {},
   "source": [
    "Valid lattice parameters cannot be calculated for some atoms, because they do not have enough neighbors to get accurate results. `STEMfit` can give us a filter of only the valid atoms:"
   ]
  },
  {
   "cell_type": "code",
   "execution_count": null,
   "metadata": {},
   "outputs": [],
   "source": [
    "valid_atoms = STEMfit.valid_lattice_parameter_filter(lattice_parameters);"
   ]
  },
  {
   "attachments": {},
   "cell_type": "markdown",
   "metadata": {},
   "source": [
    "We select the local lattice parameter values of only those atoms with a y-index larger that 80% of the height of the image as the reference:"
   ]
  },
  {
   "cell_type": "code",
   "execution_count": null,
   "metadata": {},
   "outputs": [],
   "source": [
    "#Select only atoms in the bottom 20% of the image\n",
    "substrate_min_y = 0.8*size(image)[1]\n",
    "reference_lattice_parameters = lattice_parameters[:, atom_parameters[1,:] .> substrate_min_y .&& valid_atoms]"
   ]
  },
  {
   "attachments": {},
   "cell_type": "markdown",
   "metadata": {},
   "source": [
    "Since the reference in this image is SrTiO<sub>3</sub>, we know that each basis vector corresponds to a distance of 0.3905 nm. We can use this fact to transform out atomic positions into length units. We ask the `get_pixel_size` function to return the in-plane and out-of-plane pixel sizes separately by setting `return_two_sizes=true`, because there is a relatively large difference between the two likely due to drift in the image. "
   ]
  },
  {
   "cell_type": "code",
   "execution_count": null,
   "metadata": {},
   "outputs": [],
   "source": [
    "pixel_sizes = STEMfit.get_pixel_size(reference_lattice_parameters, (0.3905, 0.3905))"
   ]
  },
  {
   "attachments": {},
   "cell_type": "markdown",
   "metadata": {},
   "source": [
    "We can now transform our atomic positions and local lattice parameter values into length units:"
   ]
  },
  {
   "cell_type": "code",
   "execution_count": null,
   "metadata": {},
   "outputs": [],
   "source": [
    "atom_parameters_in_nm = STEMfit.convert_to_nm(atom_parameters, pixel_sizes)\n",
    "lattice_parameters_in_nm = STEMfit.convert_to_nm(lattice_parameters, pixel_sizes)"
   ]
  },
  {
   "attachments": {},
   "cell_type": "markdown",
   "metadata": {},
   "source": [
    "Let's inspect the results using a histogram. The lattice parameters we calculated above are defined along the two basis vectors of the unit cell. In this case, those correspond to the in-plane/horizontal and the out-of-plane/vertical direction, respectively. However, this depends on the choice of unit cell (for example, had we chosen Unit cell 5, the basis vectors would be rotated 30<sup>o</sup> with respect to the horizontal and vertical directions). "
   ]
  },
  {
   "cell_type": "code",
   "execution_count": null,
   "metadata": {},
   "outputs": [],
   "source": [
    "lp_histogram = STEMfit.plot_histogram(lattice_parameters_in_nm, xlabel=\"Lattice parameter (nm)\");"
   ]
  },
  {
   "attachments": {},
   "cell_type": "markdown",
   "metadata": {},
   "source": [
    "As we can see, basis vector 1 (in-plane) is smaller on average than basis vector 2 (out-of-plane), which we expect to see for a compressively strained epitaxial film such as the present example. Furthermore, three distinct peaks are visible in the out-of-plane (basis vector 2) direction, corresponding to the three layers of the film. The in-plane direction shows only a single peak, indicating little to no strain relaxation. Finally, we plot the results as a lattice parameter map. We filter out the atoms for which no accurate lattice parameter information could be calculated."
   ]
  },
  {
   "cell_type": "code",
   "execution_count": null,
   "metadata": {},
   "outputs": [],
   "source": [
    "(lp_map_1, lp_map_2) = STEMfit.map_lattice_parameter(atom_parameters_in_nm, lattice_parameters_in_nm);"
   ]
  },
  {
   "attachments": {},
   "cell_type": "markdown",
   "metadata": {},
   "source": [
    "Finally, we would like to convert our lattice parameter into strain. To do this, we have to divide the local lattice parameter by the bulk lattice parameter for each layer. Hence, we need to assign to each atom a layer index manually. To help with this, we can show the image with a grid, then choose the y positions of each of the interfaces."
   ]
  },
  {
   "cell_type": "code",
   "execution_count": null,
   "metadata": {},
   "outputs": [],
   "source": [
    "STEMfit.plot_image_with_grid!(image)"
   ]
  },
  {
   "attachments": {},
   "cell_type": "markdown",
   "metadata": {},
   "source": [
    "It seems like the layer 1/layer 2 interface is at y = 550 and the layer 2/layer 3 interface at y = 970. We can now divide the atom positions into the three layers and assign to them the indices 1, 2 and 3, respectively: "
   ]
  },
  {
   "cell_type": "code",
   "execution_count": null,
   "metadata": {},
   "outputs": [],
   "source": [
    "layer_assignment = STEMfit.layer_assignments(atom_parameters, [550, 970]);"
   ]
  },
  {
   "attachments": {},
   "cell_type": "markdown",
   "metadata": {},
   "source": [
    "Now, we provide the bulk lattice parameters along basis vectors 1 and 2 of the unit cell (which in this case correspond to the in-plane and out-of plane lattice parameters)."
   ]
  },
  {
   "cell_type": "code",
   "execution_count": null,
   "metadata": {},
   "outputs": [],
   "source": [
    "bulk_lattice_parameters = Dict(\n",
    "                               1=>(0.404, 0.399), \n",
    "                               2=>(0.395355, 0.395355), \n",
    "                               3=>(0.3905, 0.3905)\n",
    "                               );"
   ]
  },
  {
   "attachments": {},
   "cell_type": "markdown",
   "metadata": {},
   "source": [
    "Now calculate the strain from the lattice parameters and plot in the same we we plotted the lattice parameters before."
   ]
  },
  {
   "cell_type": "code",
   "execution_count": null,
   "metadata": {},
   "outputs": [],
   "source": [
    "strain = STEMfit.get_strain_from_lattice_parameters(lattice_parameters_in_nm, bulk_lattice_parameters, layer_assignment)"
   ]
  },
  {
   "cell_type": "code",
   "execution_count": null,
   "metadata": {},
   "outputs": [],
   "source": [
    "strain_histogram = STEMfit.plot_histogram(strain, xlabel=\"Strain\");"
   ]
  },
  {
   "cell_type": "code",
   "execution_count": null,
   "metadata": {},
   "outputs": [],
   "source": [
    "(strain_map_1, strain_map_2) = STEMfit.map_strain(atom_parameters_in_nm[:, valid_atoms], strain[:, valid_atoms]);"
   ]
  },
  {
   "attachments": {},
   "cell_type": "markdown",
   "metadata": {},
   "source": [
    "Finally, we can save our results and the generated plots:"
   ]
  },
  {
   "cell_type": "code",
   "execution_count": null,
   "metadata": {},
   "outputs": [],
   "source": [
    "STEMfit.save_atomic_positions(\"example results\\\\results.csv\", \n",
    "                                atom_parameters=atom_parameters_in_nm, \n",
    "                                lattice_parameters=lattice_parameters_in_nm, \n",
    "                                strain=strain, \n",
    "                                valid_atoms=valid_atoms)"
   ]
  },
  {
   "cell_type": "code",
   "execution_count": null,
   "metadata": {},
   "outputs": [],
   "source": [
    "STEMfit.savefig(lp_histogram, \"example results\\\\lattice parameter histogram.png\")\n",
    "STEMfit.savefig(strain_histogram, \"example results\\\\strain histogram.png\")\n",
    "\n",
    "STEMfit.savefig(lp_map_1, \"example results\\\\lattice parameter map 1.png\")\n",
    "STEMfit.savefig(lp_map_2, \"example results\\\\lattice parameter map 2.png\")\n",
    "\n",
    "STEMfit.savefig(strain_map_1, \"example results\\\\strain map 1.png\")\n",
    "STEMfit.savefig(strain_map_2, \"example results\\\\strain map 2.png\");"
   ]
  },
  {
   "attachments": {},
   "cell_type": "markdown",
   "metadata": {},
   "source": [
    "# Gaussian fitting"
   ]
  },
  {
   "attachments": {},
   "cell_type": "markdown",
   "metadata": {},
   "source": [
    "First, we determine the background contribution:"
   ]
  },
  {
   "cell_type": "code",
   "execution_count": null,
   "metadata": {},
   "outputs": [],
   "source": [
    "background_image = STEMfit.construct_background(filtered_image, unit_cells[3]);"
   ]
  },
  {
   "cell_type": "markdown",
   "metadata": {},
   "source": [
    "We then obtain initial parameters for the gaussians using the atomic parameters we calculated using the center of mass mode:"
   ]
  },
  {
   "cell_type": "code",
   "execution_count": null,
   "metadata": {},
   "outputs": [],
   "source": [
    "fitting_parameters = STEMfit.fitting_parameters(atom_parameters, background_image);"
   ]
  },
  {
   "attachments": {},
   "cell_type": "markdown",
   "metadata": {},
   "source": [
    "Finally, we fit the model to the image. This can take a few minutes. "
   ]
  },
  {
   "cell_type": "code",
   "execution_count": null,
   "metadata": {},
   "outputs": [],
   "source": [
    "image_model = STEMfit.ImageModel(fitting_parameters, unit_cells[3], background_image);"
   ]
  },
  {
   "cell_type": "code",
   "execution_count": null,
   "metadata": {},
   "outputs": [],
   "source": [
    "STEMfit.fit!(image_model, image)"
   ]
  },
  {
   "attachments": {},
   "cell_type": "markdown",
   "metadata": {},
   "source": [
    "Let's look at the results. On the left, we display the experimental data, on the right is the fitted model. "
   ]
  },
  {
   "cell_type": "code",
   "execution_count": null,
   "metadata": {},
   "outputs": [],
   "source": [
    "STEMfit.show_images(image, STEMfit.produce_image(image_model))"
   ]
  },
  {
   "attachments": {},
   "cell_type": "markdown",
   "metadata": {},
   "source": [
    "An excellent fit has been achieved, so we save the results to a file:"
   ]
  },
  {
   "cell_type": "code",
   "execution_count": null,
   "metadata": {},
   "outputs": [],
   "source": [
    "STEMfit.save_model(image_model, \"example results\\\\results_fitted.csv\")"
   ]
  },
  {
   "cell_type": "code",
   "execution_count": null,
   "metadata": {},
   "outputs": [],
   "source": []
  }
 ],
 "metadata": {
  "kernelspec": {
   "display_name": "Julia 1.8.0",
   "language": "julia",
   "name": "julia-1.8"
  },
  "language_info": {
   "file_extension": ".jl",
   "mimetype": "application/julia",
   "name": "julia",
   "version": "1.8.0"
  },
  "orig_nbformat": 4,
  "vscode": {
   "interpreter": {
    "hash": "f498d1ef7fbdedf5dad90d62469750c6f46cbfe0563bec8f8c88bc986a7b1b4a"
   }
  }
 },
 "nbformat": 4,
 "nbformat_minor": 2
}
