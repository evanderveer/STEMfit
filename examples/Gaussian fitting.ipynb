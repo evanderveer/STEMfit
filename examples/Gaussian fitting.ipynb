{
 "cells": [
  {
   "attachments": {},
   "cell_type": "markdown",
   "metadata": {},
   "source": [
    "# **STEMfit example**\n",
    "## *Gaussian fitting mode*"
   ]
  },
  {
   "attachments": {},
   "cell_type": "markdown",
   "metadata": {},
   "source": [
    "We start by importing `STEMfit` and loading the image, the filtered image and initial atomic positions we got from the center of mass mode:"
   ]
  },
  {
   "cell_type": "code",
   "execution_count": null,
   "metadata": {},
   "outputs": [],
   "source": [
    "import STEMfit"
   ]
  },
  {
   "cell_type": "code",
   "execution_count": null,
   "metadata": {},
   "outputs": [],
   "source": [
    "image = STEMfit.load_image(\"image.tif\", convert=true);\n",
    "filtered_image = STEMfit.load_image(\"Center of Mass results\\\\filtered image.png\", convert=true);\n",
    "atom_parameters = STEMfit.load_atomic_parameters(\"Center of Mass results\\\\atomic parameters.csv\");"
   ]
  },
  {
   "attachments": {},
   "cell_type": "markdown",
   "metadata": {},
   "source": [
    "`STEMfit` will now try to find potential unit cells in the atomic positions. To do this, it finds clusters in the vectors between each pair of atoms using the [DBSCAN](https://www.wikiwand.com/en/DBSCAN) algorithm. Any two of such vectors may form the side of a possible unit cell. We restrict the angle of the unit cell to 85-95 degrees (i.e. a rectangular unit cell) using the `uc_allowed_angles` parameter and use the default settings for all other parameters. The possible choices for unit cells are automatically plotted together with the average *local* atomic environment."
   ]
  },
  {
   "cell_type": "code",
   "execution_count": null,
   "metadata": {},
   "outputs": [],
   "source": [
    "(unit_cells, neighbors, atom_tree) = STEMfit.find_unit_cells(atom_parameters, uc_allowed_angles=85:95);"
   ]
  },
  {
   "attachments": {},
   "cell_type": "markdown",
   "metadata": {},
   "source": [
    "It seems like `STEMfit` found a correct unit cell (Unit cell 3). Bear in mind that this unit cell represents the *average* translational symmetry in the whole image. We use this unit cell to set up a model of the image which we will try to fit. First, we determine the background contribution:"
   ]
  },
  {
   "cell_type": "code",
   "execution_count": null,
   "metadata": {},
   "outputs": [],
   "source": [
    "background_image = STEMfit.construct_background(filtered_image, unit_cells[3]);"
   ]
  },
  {
   "cell_type": "markdown",
   "metadata": {},
   "source": [
    "We then obtain initial parameters for the gaussians using the atomic parameters we calculated using the center of mass mode:"
   ]
  },
  {
   "cell_type": "code",
   "execution_count": null,
   "metadata": {},
   "outputs": [],
   "source": [
    "fitting_parameters = STEMfit.fitting_parameters(atom_parameters_fitted, background_image);"
   ]
  },
  {
   "attachments": {},
   "cell_type": "markdown",
   "metadata": {},
   "source": [
    "Finally, we set up the model and fit it to the image. This can take a few minutes. `STEMfit` first performs a global optimization of the atom widths, since these depend on the thresholding parameters chosen in the center of mass mode. Then, it optimized the parameters of each of the atoms individually. "
   ]
  },
  {
   "cell_type": "code",
   "execution_count": null,
   "metadata": {},
   "outputs": [],
   "source": [
    "image_model = STEMfit.ImageModel(fitting_parameters, unit_cells[3], background_image);"
   ]
  },
  {
   "cell_type": "code",
   "execution_count": null,
   "metadata": {},
   "outputs": [],
   "source": [
    "STEMfit.fit!(image_model, image)"
   ]
  },
  {
   "attachments": {},
   "cell_type": "markdown",
   "metadata": {},
   "source": [
    "Let's look at the results. On the left we display the experimental data, in the middle is the fitted model and on the right the residual image of RMS differences between the image and the fitted model. "
   ]
  },
  {
   "cell_type": "code",
   "execution_count": null,
   "metadata": {},
   "outputs": [],
   "source": [
    "simulated_image = STEMfit.produce_image(image_model)\n",
    "residual_image = STEMfit.residual_image(image, simulated_image)\n",
    "STEMfit.show_images(image, simulated_image, residual_image)"
   ]
  },
  {
   "attachments": {},
   "cell_type": "markdown",
   "metadata": {},
   "source": [
    "An excellent fit has been achieved, so we save the results:"
   ]
  },
  {
   "cell_type": "code",
   "execution_count": null,
   "metadata": {},
   "outputs": [],
   "source": [
    "STEMfit.save_model(image_model, \"Gaussian fitting results\\\\atomic parameters.csv\")\n",
    "STEMfit.save(\"Gaussian fitting results\\\\simulated image.png\", simulated_image)\n",
    "STEMfit.save(\"Gaussian fitting results\\\\residual image.png\", residual_image)"
   ]
  },
  {
   "cell_type": "code",
   "execution_count": null,
   "metadata": {},
   "outputs": [],
   "source": []
  }
 ],
 "metadata": {
  "kernelspec": {
   "display_name": "Julia 1.7.2",
   "language": "julia",
   "name": "julia-1.7"
  },
  "language_info": {
   "file_extension": ".jl",
   "mimetype": "application/julia",
   "name": "julia",
   "version": "1.7.2"
  },
  "orig_nbformat": 4,
  "vscode": {
   "interpreter": {
    "hash": "f498d1ef7fbdedf5dad90d62469750c6f46cbfe0563bec8f8c88bc986a7b1b4a"
   }
  }
 },
 "nbformat": 4,
 "nbformat_minor": 2
}
