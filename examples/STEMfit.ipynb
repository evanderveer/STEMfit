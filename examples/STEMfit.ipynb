{
 "cells": [
  {
   "attachments": {},
   "cell_type": "markdown",
   "metadata": {},
   "source": [
    "# **STEMfit example**\n",
    "## *Center of mass mode*"
   ]
  },
  {
   "attachments": {},
   "cell_type": "markdown",
   "metadata": {},
   "source": [
    "This notebook gives a short demonstration of how to detect atoms in a STEM image and determine their positions using center of mass mode. First, we start by importing `STEMfit`:"
   ]
  },
  {
   "cell_type": "code",
   "execution_count": null,
   "metadata": {},
   "outputs": [],
   "source": [
    "using Pkg; Pkg.activate(\"..\");\n",
    "import STEMfit"
   ]
  },
  {
   "attachments": {},
   "cell_type": "markdown",
   "metadata": {},
   "source": [
    "Now, we load our example image. The image we use here is of three oxide perovskite layers grown epitaxially on each other. By setting `convert=true`, we let `STEMfit` convert our 16 bit TIFF image into the required format."
   ]
  },
  {
   "cell_type": "code",
   "execution_count": null,
   "metadata": {},
   "outputs": [],
   "source": [
    "image = STEMfit.load_image(\"image.tif\")"
   ]
  },
  {
   "attachments": {},
   "cell_type": "markdown",
   "metadata": {},
   "source": [
    "We filter the raw image using a combination of singular value decomposition and Gaussian convolution. `STEMfit` will automatically determine the number of singular vectors to use. For diagnostic purposes, we can set the keyword argument `plot=true`:"
   ]
  },
  {
   "cell_type": "code",
   "execution_count": null,
   "metadata": {},
   "outputs": [],
   "source": [
    "filtered_image = STEMfit.filter_image(image, plot=false)"
   ]
  },
  {
   "attachments": {},
   "cell_type": "markdown",
   "metadata": {},
   "source": [
    "Then, we use the `find_atoms` function to find atoms in the image using an adaptive thresholding procedure. The function takes the image as an argument as well as `bias` and `window_size` parameters which control the thresholding. Increasing `bias` tends to make the threshold higher (i.e. more separation of atoms), `window_size` determines how big of an area is considered at each point in the image. The function returns a matrix of atom positions, a vector of atom widths, a vector of atom intensities and the thresholded image. The latter can be used to assess the quality of the thresholding and asjust the `bias` and `window_size` parameters. "
   ]
  },
  {
   "cell_type": "code",
   "execution_count": null,
   "metadata": {},
   "outputs": [],
   "source": [
    "tp = STEMfit.ThresholdingParameters(bias=0.5, window_size=5, minimum_atom_size=0)\n"
   ]
  },
  {
   "cell_type": "code",
   "execution_count": null,
   "metadata": {},
   "outputs": [],
   "source": [
    "(atom_parameters, thresholded_image) = STEMfit.find_atoms(filtered_image, tp);"
   ]
  },
  {
   "cell_type": "markdown",
   "metadata": {},
   "source": [
    "# **Processing**"
   ]
  },
  {
   "cell_type": "code",
   "execution_count": null,
   "metadata": {},
   "outputs": [],
   "source": [
    "(unit_cells, neighbors, atom_tree) = STEMfit.find_unit_cells(\n",
    "                                    atom_parameters, \n",
    "                                    uc_allowed_angles=85:95, #Only orthogonal unit cells\n",
    "                                    uc_allowed_orientation=175:185 #Only horizontal unit cells\n",
    "                                    );"
   ]
  },
  {
   "cell_type": "code",
   "execution_count": null,
   "metadata": {},
   "outputs": [],
   "source": [
    "results = STEMfit.calculate_lattice_parameters(atom_parameters, unit_cells[2])"
   ]
  },
  {
   "cell_type": "code",
   "execution_count": null,
   "metadata": {},
   "outputs": [],
   "source": [
    "known_lattice_parameters = (0.3905, 0.3905)\n",
    "reference_range_y = 0.8*size(image, 1):size(image, 1)\n",
    "reference_range_x = 0:size(image, 2)\n",
    "\n",
    "STEMfit.add_pixel_size(\n",
    "    results, \n",
    "    reference_range_y, \n",
    "    reference_range_x, \n",
    "    known_lattice_parameters\n",
    "    )\n"
   ]
  },
  {
   "cell_type": "code",
   "execution_count": null,
   "metadata": {},
   "outputs": [],
   "source": [
    "ellipticity_map, angle_map = STEMfit.map_ellipticity(results, markersize=2, size=(1000,400));"
   ]
  },
  {
   "cell_type": "code",
   "execution_count": null,
   "metadata": {},
   "outputs": [],
   "source": [
    "lp_histogram = STEMfit.lattice_parameter_histogram(results);"
   ]
  },
  {
   "cell_type": "code",
   "execution_count": null,
   "metadata": {},
   "outputs": [],
   "source": [
    "(lp_map_1, lp_map_2) = STEMfit.map_lattice_parameter(results, markersize=2);"
   ]
  },
  {
   "cell_type": "code",
   "execution_count": null,
   "metadata": {},
   "outputs": [],
   "source": [
    "STEMfit.save_atomic_parameters(\"Results/results.csv\", results)\n",
    "\n",
    "STEMfit.save(\"Results/binarized image.png\", thresholded_image)\n",
    "STEMfit.save(\"Results/filtered image.png\", filtered_image)\n",
    "\n",
    "STEMfit.savefig(lp_histogram, \"Results/lattice parameter histogram.png\")\n",
    "\n",
    "STEMfit.savefig(lp_map_1, \"Results/lattice parameter map 1.png\")\n",
    "STEMfit.savefig(lp_map_2, \"Results/lattice parameter map 2.png\")\n",
    "\n",
    "STEMfit.savefig(ellipticity_map, \"Results/strain map 1.png\")\n",
    "STEMfit.savefig(angle_map, \"Results/strain map 2.png\");"
   ]
  },
  {
   "cell_type": "code",
   "execution_count": null,
   "metadata": {},
   "outputs": [],
   "source": [
    "blp = Dict(1=>(1,1), 2=>(2,2))\n",
    "STEMfit.calculate_true_strain(results, blp, [600,])"
   ]
  },
  {
   "cell_type": "code",
   "execution_count": null,
   "metadata": {},
   "outputs": [],
   "source": [
    "results.strain"
   ]
  },
  {
   "cell_type": "code",
   "execution_count": null,
   "metadata": {},
   "outputs": [],
   "source": [
    "results.layer_assignments"
   ]
  },
  {
   "cell_type": "code",
   "execution_count": null,
   "metadata": {},
   "outputs": [],
   "source": []
  }
 ],
 "metadata": {
  "kernelspec": {
   "display_name": "Julia 1.10.1",
   "language": "julia",
   "name": "julia-1.10"
  },
  "language_info": {
   "file_extension": ".jl",
   "mimetype": "application/julia",
   "name": "julia",
   "version": "1.10.1"
  },
  "orig_nbformat": 4,
  "vscode": {
   "interpreter": {
    "hash": "f498d1ef7fbdedf5dad90d62469750c6f46cbfe0563bec8f8c88bc986a7b1b4a"
   }
  }
 },
 "nbformat": 4,
 "nbformat_minor": 2
}
